{
 "cells": [
  {
   "cell_type": "code",
   "execution_count": 5,
   "metadata": {},
   "outputs": [],
   "source": [
    "#1\n",
    "import numpy as np\n"
   ]
  },
  {
   "cell_type": "code",
   "execution_count": 2,
   "metadata": {},
   "outputs": [
    {
     "data": {
      "text/plain": [
       "array([[0., 0., 0., 0., 0., 0., 0., 0., 0., 0.]])"
      ]
     },
     "execution_count": 2,
     "metadata": {},
     "output_type": "execute_result"
    }
   ],
   "source": [
    "#2\n",
    "np.zeros((1,10))"
   ]
  },
  {
   "cell_type": "code",
   "execution_count": 15,
   "metadata": {},
   "outputs": [
    {
     "name": "stdout",
     "output_type": "stream",
     "text": [
      "[10 11 12 13 14 15 16 17 18 19 20 21 22 23 24 25 26 27 28 29 30 31 32 33\n",
      " 34 35 36 37 38 39 40 41 42 43 44 45 46 47 48 49 50 51 52 53 54 55 56 57\n",
      " 58 59 60 61 62 63 64 65 66 67 68 69 70 71 72 73 74 75 76 77 78 79 80 81\n",
      " 82 83 84 85 86 87 88 89 90 91 92 93 94 95 96 97 98 99]\n"
     ]
    }
   ],
   "source": [
    "#3\n",
    "a=np.arange(10, 100, 1)\n",
    "print(a)"
   ]
  },
  {
   "cell_type": "code",
   "execution_count": 16,
   "metadata": {},
   "outputs": [
    {
     "data": {
      "text/plain": [
       "array([99, 98, 97, 96, 95, 94, 93, 92, 91, 90, 89, 88, 87, 86, 85, 84, 83,\n",
       "       82, 81, 80, 79, 78, 77, 76, 75, 74, 73, 72, 71, 70, 69, 68, 67, 66,\n",
       "       65, 64, 63, 62, 61, 60, 59, 58, 57, 56, 55, 54, 53, 52, 51, 50, 49,\n",
       "       48, 47, 46, 45, 44, 43, 42, 41, 40, 39, 38, 37, 36, 35, 34, 33, 32,\n",
       "       31, 30, 29, 28, 27, 26, 25, 24, 23, 22, 21, 20, 19, 18, 17, 16, 15,\n",
       "       14, 13, 12, 11, 10])"
      ]
     },
     "execution_count": 16,
     "metadata": {},
     "output_type": "execute_result"
    }
   ],
   "source": [
    "#4\n",
    "a[::-1]"
   ]
  },
  {
   "cell_type": "code",
   "execution_count": 28,
   "metadata": {},
   "outputs": [
    {
     "data": {
      "text/plain": [
       "array([[10, 11, 12, 13, 14, 15, 16, 17, 18, 19, 20, 21, 22, 23, 24, 25,\n",
       "        26, 27, 28, 29, 30, 31, 32, 33, 34, 35, 36, 37, 38, 39],\n",
       "       [40, 41, 42, 43, 44, 45, 46, 47, 48, 49, 50, 51, 52, 53, 54, 55,\n",
       "        56, 57, 58, 59, 60, 61, 62, 63, 64, 65, 66, 67, 68, 69],\n",
       "       [70, 71, 72, 73, 74, 75, 76, 77, 78, 79, 80, 81, 82, 83, 84, 85,\n",
       "        86, 87, 88, 89, 90, 91, 92, 93, 94, 95, 96, 97, 98, 99]])"
      ]
     },
     "execution_count": 28,
     "metadata": {},
     "output_type": "execute_result"
    }
   ],
   "source": [
    "#5\n",
    "a.reshape(3,30)"
   ]
  },
  {
   "cell_type": "code",
   "execution_count": 29,
   "metadata": {},
   "outputs": [
    {
     "name": "stdout",
     "output_type": "stream",
     "text": [
      "[1 2 9 0 0 1 4 0]\n"
     ]
    }
   ],
   "source": [
    "#6\n",
    "x = np.array([1,2,9,0,0,1,4,0])\n",
    "print(x)\n",
    "## cum aflu indicii? la ce se refera?"
   ]
  },
  {
   "cell_type": "code",
   "execution_count": 38,
   "metadata": {},
   "outputs": [
    {
     "data": {
      "text/plain": [
       "(array([0, 0, 0, 0, 0, 0, 0], dtype=int64),\n",
       " array([1, 2, 3, 4, 5, 6, 7], dtype=int64),\n",
       " array([0, 0, 0, 0, 0, 0, 0], dtype=int64))"
      ]
     },
     "execution_count": 38,
     "metadata": {},
     "output_type": "execute_result"
    }
   ],
   "source": [
    "np.nonzero(x)##?????????????"
   ]
  },
  {
   "cell_type": "code",
   "execution_count": 40,
   "metadata": {},
   "outputs": [
    {
     "name": "stdout",
     "output_type": "stream",
     "text": [
      "3x3 matrix:\n",
      "[[1. 0. 0.]\n",
      " [0. 1. 0.]\n",
      " [0. 0. 1.]]\n"
     ]
    }
   ],
   "source": [
    "#7.\n",
    "matr=np.identity(3)\n",
    "print('3x3 matrix:')\n",
    "print(matr)"
   ]
  },
  {
   "cell_type": "code",
   "execution_count": 41,
   "metadata": {},
   "outputs": [
    {
     "name": "stdout",
     "output_type": "stream",
     "text": [
      "[[1. 0. 0.]\n",
      " [0. 1. 0.]\n",
      " [0. 0. 1.]]\n"
     ]
    }
   ],
   "source": [
    "#7. Met 2\n",
    "Z = np.eye(3)\n",
    "\n",
    "print(Z)\n"
   ]
  },
  {
   "cell_type": "code",
   "execution_count": 90,
   "metadata": {},
   "outputs": [
    {
     "name": "stdout",
     "output_type": "stream",
     "text": [
      "[-0.83174432  0.67474919  0.78439389 -0.13928995  0.36376729 -0.11118947\n",
      " -0.87285977  0.91521278 -0.26563929 -0.03046233 -0.14237912 -0.49423215\n",
      " -0.75591392 -0.65557851  0.79222387 -0.77766034  0.10289582 -0.8867827\n",
      " -0.55862458  0.80828185  0.18008989  0.35677022  0.54321864  0.52242293\n",
      "  0.063886   -0.44079534 -0.80558881 -0.99994816  0.62746281  0.09562077\n",
      "  0.09306281 -0.70970797 -0.08964536  0.4956471   0.63596528  0.57002219\n",
      " -0.5254587   0.5381653  -0.85493253 -0.50486715  0.45388899  0.96521665\n",
      "  0.69643009  0.7419356  -0.45585439 -0.81073821  0.75339769  0.88518228\n",
      "  0.61271079  0.43795954]\n",
      "0.03981374393603147\n"
     ]
    }
   ],
   "source": [
    "#8\n",
    "# np.random.uniform(low=-1, high=1, size=(50))\n",
    "Z = np.random.uniform(-1,1,50)\n",
    "print(Z)\n",
    "m = Z.mean()\n",
    "print(m)"
   ]
  },
  {
   "cell_type": "code",
   "execution_count": 43,
   "metadata": {},
   "outputs": [
    {
     "name": "stdout",
     "output_type": "stream",
     "text": [
      "[[0 0 0 0 0]\n",
      " [1 0 0 0 0]\n",
      " [0 2 0 0 0]\n",
      " [0 0 3 0 0]\n",
      " [0 0 0 4 0]]\n"
     ]
    }
   ],
   "source": [
    "#9.\n",
    "M = np.diag(1+np.arange(4),k=-1)\n",
    "\n",
    "print(M)"
   ]
  },
  {
   "cell_type": "code",
   "execution_count": 49,
   "metadata": {},
   "outputs": [
    {
     "name": "stdout",
     "output_type": "stream",
     "text": [
      "[[1. 1. 1.]\n",
      " [1. 1. 1.]\n",
      " [1. 1. 1.]\n",
      " [1. 1. 1.]\n",
      " [1. 1. 1.]]\n",
      "[[1. 1.]\n",
      " [1. 1.]\n",
      " [1. 1.]]\n",
      "[[3. 3.]\n",
      " [3. 3.]\n",
      " [3. 3.]\n",
      " [3. 3.]\n",
      " [3. 3.]]\n"
     ]
    }
   ],
   "source": [
    "#10.\n",
    "d=np.ones((5,3))\n",
    "g=np.ones((3,2))\n",
    "print(d)\n",
    "print(g)\n",
    "        \n",
    "N = np.dot(d, g)\n",
    "\n",
    "print(N)\n"
   ]
  },
  {
   "cell_type": "code",
   "execution_count": 54,
   "metadata": {},
   "outputs": [
    {
     "name": "stdout",
     "output_type": "stream",
     "text": [
      "[[3. 3.]\n",
      " [3. 3.]\n",
      " [3. 3.]\n",
      " [3. 3.]\n",
      " [3. 3.]]\n",
      "[[3. 3.]\n",
      " [3. 3.]\n",
      " [3. 3.]\n",
      " [3. 3.]\n",
      " [3. 3.]]\n",
      "[[3 3]\n",
      " [3 3]\n",
      " [3 3]\n",
      " [3 3]\n",
      " [3 3]]\n",
      "[[3. 3.]\n",
      " [3. 3.]\n",
      " [3. 3.]\n",
      " [3. 3.]\n",
      " [3. 3.]]\n"
     ]
    }
   ],
   "source": [
    "#11\n",
    "d=np.ones((5,3))\n",
    "g=np.ones((3,2))\n",
    "\n",
    "N = np.dot(d, g)\n",
    "\n",
    "print (N - N%1)\n",
    "\n",
    "print (np.floor(N))\n",
    "\n",
    "\n",
    "print (N.astype(int))\n",
    "\n",
    "print (np.trunc(N))"
   ]
  },
  {
   "cell_type": "code",
   "execution_count": 56,
   "metadata": {},
   "outputs": [
    {
     "name": "stdout",
     "output_type": "stream",
     "text": [
      "[0.00366014 0.09131866 0.24533239 0.29800386 0.31190813 0.34708065\n",
      " 0.35537939 0.41636949 0.61376167 0.89429693]\n"
     ]
    }
   ],
   "source": [
    "#12\n",
    "V = np.random.random(10)\n",
    "\n",
    "V.sort()\n",
    "\n",
    "print(V)"
   ]
  },
  {
   "cell_type": "code",
   "execution_count": 57,
   "metadata": {},
   "outputs": [
    {
     "name": "stdout",
     "output_type": "stream",
     "text": [
      "[0.78717646 0.48253852 0.96142233 0.41514032 0.69143916 0.43437567\n",
      " 1.14390985]\n",
      "[0.91822841 0.73685449 1.06845811 1.24497677 0.68221381 0.80444454\n",
      " 0.84067783]\n"
     ]
    }
   ],
   "source": [
    "#13\n",
    "Z = np.random.random((7,2))\n",
    "\n",
    "X,Y = Z[:,0], Z[:,1]\n",
    "\n",
    "R = np.sqrt(X**2+Y**2)\n",
    "\n",
    "T = np.arctan2(Y,X)\n",
    "\n",
    "print(R)\n",
    "\n",
    "print(T)\n",
    "\n"
   ]
  },
  {
   "cell_type": "code",
   "execution_count": null,
   "metadata": {},
   "outputs": [],
   "source": []
  },
  {
   "cell_type": "code",
   "execution_count": null,
   "metadata": {},
   "outputs": [],
   "source": []
  },
  {
   "cell_type": "code",
   "execution_count": 10,
   "metadata": {},
   "outputs": [
    {
     "name": "stdout",
     "output_type": "stream",
     "text": [
      "[[3 4 2 4 4 1 4 0 0 4]\n",
      " [0 4 0 3 0 4 0 4 3 3]\n",
      " [1 2 0 3 4 0 3 1 0 3]\n",
      " [1 4 1 1 4 3 0 4 2 2]\n",
      " [1 4 0 0 4 1 0 0 2 1]\n",
      " [3 3 1 0 4 0 2 4 1 1]\n",
      " [3 3 1 3 3 4 1 1 3 2]\n",
      " [4 1 4 1 0 3 1 1 0 2]\n",
      " [0 0 0 4 2 4 4 3 1 4]\n",
      " [2 2 0 1 1 2 2 3 4 1]]\n",
      "[3 4 2 4 4 1 4 0 0 4 0 4 0 3 0 4 0 4 3 3 1 2 0 3 4 0 3 1 0 3 1 4 1 1 4 3 0\n",
      " 4 2 2 1 4 0 0 4 1 0 0 2 1 3 3 1 0 4 0 2 4 1 1 3 3 1 3 3 4 1 1 3 2 4 1 4 1\n",
      " 0 3 1 1 0 2 0 0 0 4 2 4 4 3 1 4 2 2 0 1 1 2 2 3 4 1]\n",
      "2\n",
      "2\n"
     ]
    }
   ],
   "source": [
    "#14.\n",
    "M = np.random.randint(5,size=(10,10))\n",
    "print(M)\n",
    "n=M.flatten()\n",
    "print(n)\n",
    "v =np.random.randint(3)\n",
    "print(v)\n",
    "\n",
    "index = (np.abs(n-v)).argmin()\n",
    "\n",
    "print(n[index])"
   ]
  },
  {
   "cell_type": "code",
   "execution_count": null,
   "metadata": {},
   "outputs": [],
   "source": []
  },
  {
   "cell_type": "code",
   "execution_count": null,
   "metadata": {},
   "outputs": [],
   "source": []
  },
  {
   "cell_type": "code",
   "execution_count": null,
   "metadata": {},
   "outputs": [],
   "source": []
  },
  {
   "cell_type": "code",
   "execution_count": null,
   "metadata": {},
   "outputs": [],
   "source": []
  }
 ],
 "metadata": {
  "kernelspec": {
   "display_name": "Python 3",
   "language": "python",
   "name": "python3"
  },
  "language_info": {
   "codemirror_mode": {
    "name": "ipython",
    "version": 3
   },
   "file_extension": ".py",
   "mimetype": "text/x-python",
   "name": "python",
   "nbconvert_exporter": "python",
   "pygments_lexer": "ipython3",
   "version": "3.7.4"
  }
 },
 "nbformat": 4,
 "nbformat_minor": 2
}
